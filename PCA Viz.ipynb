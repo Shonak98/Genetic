{
 "cells": [
  {
   "cell_type": "code",
   "execution_count": 1,
   "metadata": {},
   "outputs": [],
   "source": [
    "import json\n",
    "import sys\n",
    "import os\n",
    "\n",
    "sys.path.insert(0, f\"{sys.path[0]}/src\")\n",
    "\n",
    "from etl import *\n",
    "from run import *\n",
    "\n",
    "%matplotlib inline"
   ]
  },
  {
   "cell_type": "code",
   "execution_count": 2,
   "metadata": {},
   "outputs": [],
   "source": [
    "%load_ext autoreload\n",
    "%autoreload 2"
   ]
  },
  {
   "cell_type": "code",
   "execution_count": 3,
   "metadata": {},
   "outputs": [],
   "source": [
    "params = json.load(open(\"config/params.json\"))"
   ]
  },
  {
   "cell_type": "code",
   "execution_count": 4,
   "metadata": {},
   "outputs": [
    {
     "data": {
      "text/plain": [
       "{'references': '/datasets/dsc180a-wi20-public/Genome/resources/hg38/',\n",
       " 'new_ref_location': 'references',\n",
       " 'chromosomes': [0, '-', 2, 21, '-', 22],\n",
       " 'outpath': ['results'],\n",
       " 'directory': '/datasets/dsc180a-wi20-public/Genome/vcf/ALL.chr',\n",
       " 'extension': '.shapeit2_integrated_v1a.GRCh38.20181129.phased.vcf.gz',\n",
       " 'chromosome_links': ['ftp://ftp.1000genomes.ebi.ac.uk/vol1/ftp/phase3/data/HG00096/sequence_read/SRR062635.filt.fastq.gz',\n",
       "  'ftp://ftp.1000genomes.ebi.ac.uk/vol1/ftp/phase3/data/HG00097/sequence_read/SRR765989.filt.fastq.gz',\n",
       "  'ftp://ftp.1000genomes.ebi.ac.uk/vol1/ftp/phase3/data/HG00100/sequence_read/SRR099966.filt.fastq.gz'],\n",
       " 'test_fastq': '/datasets/dsc180a-wi20-public/Genome/fastq/testfile/SP1.fq',\n",
       " 'bam_name': 'sample.bam',\n",
       " 'vcf_name': 'sample.vcf',\n",
       " 'conversion_dir': 'data/converted',\n",
       " 'keep_filtered': 0,\n",
       " 'fil_output': 'vcf',\n",
       " 'merged_vcf': 'merged.vcf',\n",
       " 'vcf_dir': 'data/vcf_loc',\n",
       " 'maf': 0.3,\n",
       " 'geno': 0.4,\n",
       " 'mind': 0.3,\n",
       " 'eigen_file': 'eigens',\n",
       " 'picture_name': 'pca.png',\n",
       " 'code_file': 'data/igsr_samples.tsv',\n",
       " 'docker-image': 'ucsdets/dsc180a-genetics'}"
      ]
     },
     "execution_count": 4,
     "metadata": {},
     "output_type": "execute_result"
    }
   ],
   "source": [
    "params"
   ]
  },
  {
   "cell_type": "code",
   "execution_count": 6,
   "metadata": {},
   "outputs": [],
   "source": [
    "directory = params['directory']\n",
    "extension = params['extension']\n",
    "vcf_dir = params['vcf_dir']"
   ]
  },
  {
   "cell_type": "markdown",
   "metadata": {},
   "source": [
    "# Filtering First on all 22"
   ]
  },
  {
   "cell_type": "code",
   "execution_count": 5,
   "metadata": {},
   "outputs": [],
   "source": [
    "chrom_lst = get_chrom_list([0, '-', 22])\n",
    "\n",
    "vcf_lst = [f'{directory}{chrom}{extension}' for chrom in chrom_lst]\n",
    "\n",
    "for ind, vcf in enumerate(vcf_lst):\n",
    "    filtering_vcf(vcf, chrom_lst[ind], vcf_dir, params['maf'],\n",
    "               params['geno'], params['mind'], params['fil_output'],\n",
    "               keep_files = bool(params['keep_filtered']))"
   ]
  },
  {
   "cell_type": "markdown",
   "metadata": {},
   "source": [
    "# Chromosomes 1-3"
   ]
  },
  {
   "cell_type": "code",
   "execution_count": null,
   "metadata": {},
   "outputs": [],
   "source": [
    "######## vcf analysis\n",
    "chrom_lst = get_chrom_list([0, '-', 3])\n",
    "\n",
    "zipped_lst = [f\"{chrom}.vcf.gz\" for chrom in chrom_lst] ## gives vcf file names\n",
    "vcf_concat(zipped_lst, \"1_3.vcf\", vcf_dir) ### combines vcfs \n",
    "\n",
    "### performs pca on chosen vcfs\n",
    "pca(\"1_3.vcf\", params['fil_output'], \"1_3\", vcf_dir)\n",
    "\n",
    "### plots pca clusters based on the chosen chromosomes (given by chrom_lst)\n",
    "eigen_file = vcf_dir + '/' + \"1_3\" + '.eigenvec'\n",
    "plot_clusters(eigen_file, chrom_lst)"
   ]
  },
  {
   "cell_type": "code",
   "execution_count": null,
   "metadata": {},
   "outputs": [],
   "source": []
  },
  {
   "cell_type": "markdown",
   "metadata": {},
   "source": [
    "# Chromosomes 1-2, 21-22"
   ]
  },
  {
   "cell_type": "code",
   "execution_count": null,
   "metadata": {},
   "outputs": [],
   "source": [
    "######## vcf analysis\n",
    "chrom_lst = get_chrom_list([0, '-', 2, 21,22])\n",
    "\n",
    "zipped_lst = [f\"{chrom}.vcf.gz\" for chrom in chrom_lst] ## gives vcf file names\n",
    "vcf_concat(zipped_lst, \"1_2_21_22.vcf\", vcf_dir) ### combines vcfs \n",
    "\n",
    "### performs pca on chosen vcfs\n",
    "pca(\"1_2_21_22.vcf\", params['fil_output'], \"1_2_21_22\", vcf_dir)\n",
    "\n",
    "### plots pca clusters based on the chosen chromosomes (given by chrom_lst)\n",
    "eigen_file = vcf_dir + '/' + \"1_2_21_22\" + '.eigenvec'\n",
    "plot_clusters(eigen_file, chrom_lst)"
   ]
  },
  {
   "cell_type": "code",
   "execution_count": null,
   "metadata": {},
   "outputs": [],
   "source": []
  },
  {
   "cell_type": "markdown",
   "metadata": {},
   "source": [
    "# Chromosome 19-22"
   ]
  },
  {
   "cell_type": "code",
   "execution_count": null,
   "metadata": {},
   "outputs": [],
   "source": [
    "######## vcf analysis\n",
    "chrom_lst = get_chrom_list([19, '-', 22])\n",
    "\n",
    "zipped_lst = [f\"{chrom}.vcf.gz\" for chrom in chrom_lst] ## gives vcf file names\n",
    "vcf_concat(zipped_lst, \"19_22.vcf\", vcf_dir) ### combines vcfs \n",
    "\n",
    "### performs pca on chosen vcfs\n",
    "pca(\"19_22.vcf\", params['fil_output'], \"19_22\", vcf_dir)\n",
    "\n",
    "### plots pca clusters based on the chosen chromosomes (given by chrom_lst)\n",
    "eigen_file = vcf_dir + '/' + \"19_22\" + '.eigenvec'\n",
    "plot_clusters(eigen_file, chrom_lst)"
   ]
  },
  {
   "cell_type": "code",
   "execution_count": null,
   "metadata": {},
   "outputs": [],
   "source": []
  },
  {
   "cell_type": "markdown",
   "metadata": {},
   "source": [
    "# Chromosome 1-22"
   ]
  },
  {
   "cell_type": "code",
   "execution_count": null,
   "metadata": {},
   "outputs": [],
   "source": [
    "######## vcf analysis\n",
    "chrom_lst = get_chrom_list([0, '-', 22])\n",
    "\n",
    "zipped_lst = [f\"{chrom}.vcf.gz\" for chrom in chrom_lst] ## gives vcf file names\n",
    "vcf_concat(zipped_lst, \"1_22.vcf\", vcf_dir) ### combines vcfs \n",
    "\n",
    "### performs pca on chosen vcfs\n",
    "pca(\"1_22.vcf\", params['fil_output'], \"1_22\", vcf_dir)\n",
    "\n",
    "### plots pca clusters based on the chosen chromosomes (given by chrom_lst)\n",
    "eigen_file = vcf_dir + '/' + \"1_22\" + '.eigenvec'\n",
    "plot_clusters(eigen_file, chrom_lst)"
   ]
  }
 ],
 "metadata": {
  "kernelspec": {
   "display_name": "Python 3",
   "language": "python",
   "name": "python3"
  },
  "language_info": {
   "codemirror_mode": {
    "name": "ipython",
    "version": 3
   },
   "file_extension": ".py",
   "mimetype": "text/x-python",
   "name": "python",
   "nbconvert_exporter": "python",
   "pygments_lexer": "ipython3",
   "version": "3.7.3"
  }
 },
 "nbformat": 4,
 "nbformat_minor": 2
}
